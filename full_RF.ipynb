{
 "cells": [
  {
   "cell_type": "markdown",
   "metadata": {},
   "source": [
    "# This project has purpose to get better rainfall estimates from infrared satellite datas in Bandung Basin, West Java. \n",
    "\n",
    "The predictor data were used from Himawari-8 satellite which is 9 infrared bands and their 36 combination from all infrared bands. Then the\n",
    "predictive data used from the estimated rainfall from the GPM DPR KuPR. \n",
    "\n",
    "There are different spatial resolution data between Himawari-8 and GPM DPR KuPR, so I use interpolation first using nearest neighbour for both of the data to ~5 km.\n",
    "\n",
    "Data sampling was carried out by extending data collection to one island of Java with the assumption of similar atmospheric conditions to overcome data limitations in the Bandung Basin. The algorithm used at the random forest model creation stage is to classify the rain area, classify the type of rain, and regress to get the rain value. "
   ]
  },
  {
   "cell_type": "markdown",
   "metadata": {},
   "source": [
    "# Import library"
   ]
  },
  {
   "cell_type": "code",
   "execution_count": 136,
   "metadata": {},
   "outputs": [],
   "source": [
    "import numpy as np\n",
    "import pandas as pd\n",
    "\n",
    "#split data\n",
    "from sklearn.model_selection import train_test_split\n",
    "\n",
    "#ML_model_random Forest\n",
    "from sklearn.ensemble import RandomForestRegressor\n",
    "from sklearn.ensemble import RandomForestClassifier\n",
    "\n",
    "#metrics\n",
    "from sklearn.metrics import mean_absolute_error\n",
    "from sklearn.metrics import confusion_matrix,classification_report"
   ]
  },
  {
   "cell_type": "markdown",
   "metadata": {},
   "source": [
    "# Open Data"
   ]
  },
  {
   "cell_type": "markdown",
   "metadata": {},
   "source": [
    "disini kalau bisa diplot semuanya dulu, ntar diseleksi disini yang paling berpengaruh langsung. "
   ]
  },
  {
   "cell_type": "code",
   "execution_count": 39,
   "metadata": {},
   "outputs": [
    {
     "data": {
      "text/plain": [
       "(218199, 51)"
      ]
     },
     "execution_count": 39,
     "metadata": {},
     "output_type": "execute_result"
    }
   ],
   "source": [
    "d = pd.read_csv('C:/Users/ajiwi/Documents/kodingan_TA/df_hmw-gpm_final.csv')\n",
    "d.shape"
   ]
  },
  {
   "cell_type": "markdown",
   "metadata": {},
   "source": [
    "#### The infrared variable used in this project have selected into 10 combination bands for the best brightness temperature and brightness temperature difference to predict precipitation based on calculation and function of the atmospheric factors. "
   ]
  },
  {
   "cell_type": "code",
   "execution_count": 40,
   "metadata": {},
   "outputs": [
    {
     "data": {
      "text/plain": [
       "(218199, 11)"
      ]
     },
     "execution_count": 40,
     "metadata": {},
     "output_type": "execute_result"
    }
   ],
   "source": [
    "d1 = d[['10.4-11.2', '8.6-10.4','8.6-12.4','10.4-12.4', '6.2-6.9', '7.3-10.4','7.3-9.6','6.2-9.6','7.3-12.4','7.3-13.3', 'prec']]\n",
    "d1.shape"
   ]
  },
  {
   "cell_type": "markdown",
   "metadata": {},
   "source": [
    "# check & dropn null"
   ]
  },
  {
   "cell_type": "code",
   "execution_count": 41,
   "metadata": {},
   "outputs": [
    {
     "data": {
      "text/html": [
       "<div>\n",
       "<style scoped>\n",
       "    .dataframe tbody tr th:only-of-type {\n",
       "        vertical-align: middle;\n",
       "    }\n",
       "\n",
       "    .dataframe tbody tr th {\n",
       "        vertical-align: top;\n",
       "    }\n",
       "\n",
       "    .dataframe thead th {\n",
       "        text-align: right;\n",
       "    }\n",
       "</style>\n",
       "<table border=\"1\" class=\"dataframe\">\n",
       "  <thead>\n",
       "    <tr style=\"text-align: right;\">\n",
       "      <th></th>\n",
       "      <th>10.4-11.2</th>\n",
       "      <th>8.6-10.4</th>\n",
       "      <th>8.6-12.4</th>\n",
       "      <th>10.4-12.4</th>\n",
       "      <th>6.2-6.9</th>\n",
       "      <th>7.3-10.4</th>\n",
       "      <th>7.3-9.6</th>\n",
       "      <th>6.2-9.6</th>\n",
       "      <th>7.3-12.4</th>\n",
       "      <th>7.3-13.3</th>\n",
       "      <th>prec</th>\n",
       "    </tr>\n",
       "  </thead>\n",
       "  <tbody>\n",
       "    <tr>\n",
       "      <th>0</th>\n",
       "      <td>1.415924</td>\n",
       "      <td>-1.579254</td>\n",
       "      <td>4.410126</td>\n",
       "      <td>5.989380</td>\n",
       "      <td>-14.492111</td>\n",
       "      <td>-30.503082</td>\n",
       "      <td>-7.440216</td>\n",
       "      <td>-32.296463</td>\n",
       "      <td>-24.513702</td>\n",
       "      <td>-7.445953</td>\n",
       "      <td>0.0</td>\n",
       "    </tr>\n",
       "    <tr>\n",
       "      <th>1</th>\n",
       "      <td>2.101044</td>\n",
       "      <td>-1.394836</td>\n",
       "      <td>5.635712</td>\n",
       "      <td>7.030548</td>\n",
       "      <td>-13.890808</td>\n",
       "      <td>-30.046143</td>\n",
       "      <td>-8.120178</td>\n",
       "      <td>-31.930740</td>\n",
       "      <td>-23.015594</td>\n",
       "      <td>-6.397217</td>\n",
       "      <td>0.0</td>\n",
       "    </tr>\n",
       "    <tr>\n",
       "      <th>2</th>\n",
       "      <td>2.362030</td>\n",
       "      <td>-1.263184</td>\n",
       "      <td>5.976440</td>\n",
       "      <td>7.239624</td>\n",
       "      <td>-13.890808</td>\n",
       "      <td>-29.846985</td>\n",
       "      <td>-8.060333</td>\n",
       "      <td>-32.249588</td>\n",
       "      <td>-22.607361</td>\n",
       "      <td>-5.877136</td>\n",
       "      <td>0.0</td>\n",
       "    </tr>\n",
       "    <tr>\n",
       "      <th>3</th>\n",
       "      <td>1.645813</td>\n",
       "      <td>-1.026703</td>\n",
       "      <td>4.908417</td>\n",
       "      <td>5.935120</td>\n",
       "      <td>-13.846985</td>\n",
       "      <td>-27.729675</td>\n",
       "      <td>-6.625458</td>\n",
       "      <td>-30.563110</td>\n",
       "      <td>-21.794556</td>\n",
       "      <td>-5.960022</td>\n",
       "      <td>0.0</td>\n",
       "    </tr>\n",
       "    <tr>\n",
       "      <th>4</th>\n",
       "      <td>1.759857</td>\n",
       "      <td>-1.309326</td>\n",
       "      <td>5.220673</td>\n",
       "      <td>6.529999</td>\n",
       "      <td>-14.005066</td>\n",
       "      <td>-29.430481</td>\n",
       "      <td>-7.646118</td>\n",
       "      <td>-31.733047</td>\n",
       "      <td>-22.900482</td>\n",
       "      <td>-6.480743</td>\n",
       "      <td>0.0</td>\n",
       "    </tr>\n",
       "    <tr>\n",
       "      <th>...</th>\n",
       "      <td>...</td>\n",
       "      <td>...</td>\n",
       "      <td>...</td>\n",
       "      <td>...</td>\n",
       "      <td>...</td>\n",
       "      <td>...</td>\n",
       "      <td>...</td>\n",
       "      <td>...</td>\n",
       "      <td>...</td>\n",
       "      <td>...</td>\n",
       "      <td>...</td>\n",
       "    </tr>\n",
       "    <tr>\n",
       "      <th>218194</th>\n",
       "      <td>0.927582</td>\n",
       "      <td>-3.008270</td>\n",
       "      <td>2.810150</td>\n",
       "      <td>5.818420</td>\n",
       "      <td>-11.431274</td>\n",
       "      <td>-41.570129</td>\n",
       "      <td>-16.384644</td>\n",
       "      <td>-40.200821</td>\n",
       "      <td>-35.751709</td>\n",
       "      <td>-17.609344</td>\n",
       "      <td>0.0</td>\n",
       "    </tr>\n",
       "    <tr>\n",
       "      <th>218195</th>\n",
       "      <td>0.386780</td>\n",
       "      <td>-3.167969</td>\n",
       "      <td>0.965973</td>\n",
       "      <td>4.133942</td>\n",
       "      <td>-11.499985</td>\n",
       "      <td>-37.467438</td>\n",
       "      <td>-13.004333</td>\n",
       "      <td>-37.362335</td>\n",
       "      <td>-33.333496</td>\n",
       "      <td>-16.931000</td>\n",
       "      <td>0.0</td>\n",
       "    </tr>\n",
       "    <tr>\n",
       "      <th>218196</th>\n",
       "      <td>0.285553</td>\n",
       "      <td>-2.970642</td>\n",
       "      <td>0.976410</td>\n",
       "      <td>3.947052</td>\n",
       "      <td>-11.446976</td>\n",
       "      <td>-36.832855</td>\n",
       "      <td>-13.050842</td>\n",
       "      <td>-36.972015</td>\n",
       "      <td>-32.885803</td>\n",
       "      <td>-16.601929</td>\n",
       "      <td>0.0</td>\n",
       "    </tr>\n",
       "    <tr>\n",
       "      <th>218197</th>\n",
       "      <td>0.252625</td>\n",
       "      <td>-3.194489</td>\n",
       "      <td>0.676117</td>\n",
       "      <td>3.870605</td>\n",
       "      <td>-11.274170</td>\n",
       "      <td>-36.843414</td>\n",
       "      <td>-12.877533</td>\n",
       "      <td>-36.466141</td>\n",
       "      <td>-32.972809</td>\n",
       "      <td>-16.528748</td>\n",
       "      <td>0.0</td>\n",
       "    </tr>\n",
       "    <tr>\n",
       "      <th>218198</th>\n",
       "      <td>0.494507</td>\n",
       "      <td>-3.129517</td>\n",
       "      <td>1.228638</td>\n",
       "      <td>4.358154</td>\n",
       "      <td>-11.317215</td>\n",
       "      <td>-37.759064</td>\n",
       "      <td>-13.567108</td>\n",
       "      <td>-37.140167</td>\n",
       "      <td>-33.400909</td>\n",
       "      <td>-16.795349</td>\n",
       "      <td>0.0</td>\n",
       "    </tr>\n",
       "  </tbody>\n",
       "</table>\n",
       "<p>218199 rows × 11 columns</p>\n",
       "</div>"
      ],
      "text/plain": [
       "        10.4-11.2  8.6-10.4  8.6-12.4  10.4-12.4    6.2-6.9   7.3-10.4  \\\n",
       "0        1.415924 -1.579254  4.410126   5.989380 -14.492111 -30.503082   \n",
       "1        2.101044 -1.394836  5.635712   7.030548 -13.890808 -30.046143   \n",
       "2        2.362030 -1.263184  5.976440   7.239624 -13.890808 -29.846985   \n",
       "3        1.645813 -1.026703  4.908417   5.935120 -13.846985 -27.729675   \n",
       "4        1.759857 -1.309326  5.220673   6.529999 -14.005066 -29.430481   \n",
       "...           ...       ...       ...        ...        ...        ...   \n",
       "218194   0.927582 -3.008270  2.810150   5.818420 -11.431274 -41.570129   \n",
       "218195   0.386780 -3.167969  0.965973   4.133942 -11.499985 -37.467438   \n",
       "218196   0.285553 -2.970642  0.976410   3.947052 -11.446976 -36.832855   \n",
       "218197   0.252625 -3.194489  0.676117   3.870605 -11.274170 -36.843414   \n",
       "218198   0.494507 -3.129517  1.228638   4.358154 -11.317215 -37.759064   \n",
       "\n",
       "          7.3-9.6    6.2-9.6   7.3-12.4   7.3-13.3  prec  \n",
       "0       -7.440216 -32.296463 -24.513702  -7.445953   0.0  \n",
       "1       -8.120178 -31.930740 -23.015594  -6.397217   0.0  \n",
       "2       -8.060333 -32.249588 -22.607361  -5.877136   0.0  \n",
       "3       -6.625458 -30.563110 -21.794556  -5.960022   0.0  \n",
       "4       -7.646118 -31.733047 -22.900482  -6.480743   0.0  \n",
       "...           ...        ...        ...        ...   ...  \n",
       "218194 -16.384644 -40.200821 -35.751709 -17.609344   0.0  \n",
       "218195 -13.004333 -37.362335 -33.333496 -16.931000   0.0  \n",
       "218196 -13.050842 -36.972015 -32.885803 -16.601929   0.0  \n",
       "218197 -12.877533 -36.466141 -32.972809 -16.528748   0.0  \n",
       "218198 -13.567108 -37.140167 -33.400909 -16.795349   0.0  \n",
       "\n",
       "[218199 rows x 11 columns]"
      ]
     },
     "execution_count": 41,
     "metadata": {},
     "output_type": "execute_result"
    }
   ],
   "source": [
    "null_columns = d1.columns[d1.isnull().any()]\n",
    "d1[null_columns].isnull().sum()\n",
    "d1.dropna()"
   ]
  },
  {
   "cell_type": "raw",
   "metadata": {},
   "source": [
    "#check data shape"
   ]
  },
  {
   "cell_type": "code",
   "execution_count": 42,
   "metadata": {},
   "outputs": [
    {
     "data": {
      "text/plain": [
       "(218199, 11)"
      ]
     },
     "execution_count": 42,
     "metadata": {},
     "output_type": "execute_result"
    }
   ],
   "source": [
    "d1.shape"
   ]
  },
  {
   "cell_type": "markdown",
   "metadata": {},
   "source": [
    "# Data Preparation"
   ]
  },
  {
   "cell_type": "raw",
   "metadata": {},
   "source": [
    "# To classfied the strong rain and weak Rain, in this project I use treshold 1.8mm based on Hirose, 2019 Paper. "
   ]
  },
  {
   "cell_type": "code",
   "execution_count": 43,
   "metadata": {},
   "outputs": [
    {
     "name": "stdout",
     "output_type": "stream",
     "text": [
      "rnum(rain)   = 17563\n",
      "cnum(no_rain)= 200636\n"
     ]
    }
   ],
   "source": [
    "nlen2 = 218199\n",
    "labels2 = np.array(list(range(nlen2)))\n",
    "ndarr2 = np.array([0, 10, 20, 30, 40, 50])\n",
    "rnum = labels2[d1['prec'] > 0. ]\n",
    "cnum = labels2[d1['prec'] == 0.]\n",
    "rcnt = len(rnum)\n",
    "ccnt = len(cnum)\n",
    "print('rnum(rain)   =',rcnt)\n",
    "print('cnum(no_rain)=',ccnt)"
   ]
  },
  {
   "cell_type": "code",
   "execution_count": 44,
   "metadata": {},
   "outputs": [
    {
     "name": "stdout",
     "output_type": "stream",
     "text": [
      "hcnt(strong)= 5935\n",
      "scnt(weak)= 11628\n"
     ]
    }
   ],
   "source": [
    "hnum = labels2[ d1['prec'] > 1.8 ]\n",
    "snum = labels2[ (d1['prec'] > 0.) & (d1['prec'] <= 1.8) ]\n",
    "\n",
    "hcnt = len(hnum)\n",
    "scnt = len(snum)\n",
    "\n",
    "print('hcnt(strong)=', hcnt)\n",
    "print('scnt(weak)=', scnt)"
   ]
  },
  {
   "cell_type": "code",
   "execution_count": 45,
   "metadata": {},
   "outputs": [
    {
     "data": {
      "text/plain": [
       "5935"
      ]
     },
     "execution_count": 45,
     "metadata": {},
     "output_type": "execute_result"
    }
   ],
   "source": [
    "hcnt"
   ]
  },
  {
   "cell_type": "code",
   "execution_count": 46,
   "metadata": {},
   "outputs": [],
   "source": [
    "ratioR = 1.5\n",
    "probR = ((rcnt*ratioR)/ccnt)"
   ]
  },
  {
   "cell_type": "code",
   "execution_count": 47,
   "metadata": {},
   "outputs": [],
   "source": [
    "from sklearn.model_selection import train_test_split\n",
    "\n",
    "cnum_train, cnum_test, = train_test_split(cnum, train_size=probR, random_state = 40)"
   ]
  },
  {
   "cell_type": "code",
   "execution_count": 48,
   "metadata": {},
   "outputs": [],
   "source": [
    "dfc = d1.loc[cnum_train,:]\n",
    "dfr = d1.loc[rnum,:]\n",
    "dfc['classification']= 0\n",
    "dfr['classification']= 1\n",
    "df = pd.concat((dfc, dfr), axis=0)"
   ]
  },
  {
   "cell_type": "code",
   "execution_count": 49,
   "metadata": {},
   "outputs": [
    {
     "data": {
      "text/html": [
       "<div>\n",
       "<style scoped>\n",
       "    .dataframe tbody tr th:only-of-type {\n",
       "        vertical-align: middle;\n",
       "    }\n",
       "\n",
       "    .dataframe tbody tr th {\n",
       "        vertical-align: top;\n",
       "    }\n",
       "\n",
       "    .dataframe thead th {\n",
       "        text-align: right;\n",
       "    }\n",
       "</style>\n",
       "<table border=\"1\" class=\"dataframe\">\n",
       "  <thead>\n",
       "    <tr style=\"text-align: right;\">\n",
       "      <th></th>\n",
       "      <th>10.4-11.2</th>\n",
       "      <th>8.6-10.4</th>\n",
       "      <th>8.6-12.4</th>\n",
       "      <th>10.4-12.4</th>\n",
       "      <th>6.2-6.9</th>\n",
       "      <th>7.3-10.4</th>\n",
       "      <th>7.3-9.6</th>\n",
       "      <th>6.2-9.6</th>\n",
       "      <th>7.3-12.4</th>\n",
       "      <th>7.3-13.3</th>\n",
       "      <th>prec</th>\n",
       "      <th>classification</th>\n",
       "    </tr>\n",
       "  </thead>\n",
       "  <tbody>\n",
       "    <tr>\n",
       "      <th>134118</th>\n",
       "      <td>1.807114</td>\n",
       "      <td>0.679688</td>\n",
       "      <td>4.131042</td>\n",
       "      <td>3.451355</td>\n",
       "      <td>-2.807220</td>\n",
       "      <td>-3.845245</td>\n",
       "      <td>-5.282028</td>\n",
       "      <td>-10.161392</td>\n",
       "      <td>-0.393890</td>\n",
       "      <td>1.564331</td>\n",
       "      <td>0.000000</td>\n",
       "      <td>0</td>\n",
       "    </tr>\n",
       "    <tr>\n",
       "      <th>15319</th>\n",
       "      <td>0.161926</td>\n",
       "      <td>-3.117493</td>\n",
       "      <td>-1.080688</td>\n",
       "      <td>2.036804</td>\n",
       "      <td>-8.686646</td>\n",
       "      <td>-26.262909</td>\n",
       "      <td>-6.863220</td>\n",
       "      <td>-25.070496</td>\n",
       "      <td>-24.226105</td>\n",
       "      <td>-13.248596</td>\n",
       "      <td>0.000000</td>\n",
       "      <td>0</td>\n",
       "    </tr>\n",
       "    <tr>\n",
       "      <th>53314</th>\n",
       "      <td>1.090668</td>\n",
       "      <td>-2.248199</td>\n",
       "      <td>2.787079</td>\n",
       "      <td>5.035278</td>\n",
       "      <td>-9.555450</td>\n",
       "      <td>-30.066437</td>\n",
       "      <td>-7.578064</td>\n",
       "      <td>-25.941254</td>\n",
       "      <td>-25.031158</td>\n",
       "      <td>-12.319885</td>\n",
       "      <td>0.000000</td>\n",
       "      <td>0</td>\n",
       "    </tr>\n",
       "    <tr>\n",
       "      <th>162897</th>\n",
       "      <td>1.723541</td>\n",
       "      <td>-1.921539</td>\n",
       "      <td>1.570129</td>\n",
       "      <td>3.491669</td>\n",
       "      <td>-7.415115</td>\n",
       "      <td>-14.682205</td>\n",
       "      <td>-3.898163</td>\n",
       "      <td>-18.152283</td>\n",
       "      <td>-11.190536</td>\n",
       "      <td>-2.674103</td>\n",
       "      <td>0.000000</td>\n",
       "      <td>0</td>\n",
       "    </tr>\n",
       "    <tr>\n",
       "      <th>180800</th>\n",
       "      <td>0.946899</td>\n",
       "      <td>-2.485626</td>\n",
       "      <td>2.421722</td>\n",
       "      <td>4.907349</td>\n",
       "      <td>-10.247162</td>\n",
       "      <td>-32.087677</td>\n",
       "      <td>-7.910004</td>\n",
       "      <td>-24.451736</td>\n",
       "      <td>-27.180328</td>\n",
       "      <td>-12.388245</td>\n",
       "      <td>0.000000</td>\n",
       "      <td>0</td>\n",
       "    </tr>\n",
       "    <tr>\n",
       "      <th>...</th>\n",
       "      <td>...</td>\n",
       "      <td>...</td>\n",
       "      <td>...</td>\n",
       "      <td>...</td>\n",
       "      <td>...</td>\n",
       "      <td>...</td>\n",
       "      <td>...</td>\n",
       "      <td>...</td>\n",
       "      <td>...</td>\n",
       "      <td>...</td>\n",
       "      <td>...</td>\n",
       "      <td>...</td>\n",
       "    </tr>\n",
       "    <tr>\n",
       "      <th>210413</th>\n",
       "      <td>0.570099</td>\n",
       "      <td>-1.735931</td>\n",
       "      <td>0.106934</td>\n",
       "      <td>1.842865</td>\n",
       "      <td>-10.334091</td>\n",
       "      <td>-16.867737</td>\n",
       "      <td>0.266418</td>\n",
       "      <td>-18.301437</td>\n",
       "      <td>-15.024872</td>\n",
       "      <td>-6.422791</td>\n",
       "      <td>1.378972</td>\n",
       "      <td>1</td>\n",
       "    </tr>\n",
       "    <tr>\n",
       "      <th>210452</th>\n",
       "      <td>0.005280</td>\n",
       "      <td>-2.335663</td>\n",
       "      <td>-1.050751</td>\n",
       "      <td>1.284912</td>\n",
       "      <td>-10.387131</td>\n",
       "      <td>-17.246307</td>\n",
       "      <td>1.269440</td>\n",
       "      <td>-17.427872</td>\n",
       "      <td>-15.961395</td>\n",
       "      <td>-7.185486</td>\n",
       "      <td>0.447752</td>\n",
       "      <td>1</td>\n",
       "    </tr>\n",
       "    <tr>\n",
       "      <th>210887</th>\n",
       "      <td>0.232513</td>\n",
       "      <td>-1.964905</td>\n",
       "      <td>-0.658936</td>\n",
       "      <td>1.305969</td>\n",
       "      <td>-10.849243</td>\n",
       "      <td>-17.947601</td>\n",
       "      <td>0.041321</td>\n",
       "      <td>-19.241287</td>\n",
       "      <td>-16.641632</td>\n",
       "      <td>-7.743774</td>\n",
       "      <td>0.278448</td>\n",
       "      <td>1</td>\n",
       "    </tr>\n",
       "    <tr>\n",
       "      <th>211186</th>\n",
       "      <td>0.041534</td>\n",
       "      <td>-2.251801</td>\n",
       "      <td>-0.131805</td>\n",
       "      <td>2.119995</td>\n",
       "      <td>-9.317444</td>\n",
       "      <td>-27.278870</td>\n",
       "      <td>-5.652435</td>\n",
       "      <td>-22.434219</td>\n",
       "      <td>-25.158875</td>\n",
       "      <td>-12.217743</td>\n",
       "      <td>0.259473</td>\n",
       "      <td>1</td>\n",
       "    </tr>\n",
       "    <tr>\n",
       "      <th>215392</th>\n",
       "      <td>1.166626</td>\n",
       "      <td>-2.502869</td>\n",
       "      <td>2.942200</td>\n",
       "      <td>5.445068</td>\n",
       "      <td>-11.907516</td>\n",
       "      <td>-36.492035</td>\n",
       "      <td>-12.628418</td>\n",
       "      <td>-36.389893</td>\n",
       "      <td>-31.046967</td>\n",
       "      <td>-15.209259</td>\n",
       "      <td>1.208396</td>\n",
       "      <td>1</td>\n",
       "    </tr>\n",
       "  </tbody>\n",
       "</table>\n",
       "<p>43907 rows × 12 columns</p>\n",
       "</div>"
      ],
      "text/plain": [
       "        10.4-11.2  8.6-10.4  8.6-12.4  10.4-12.4    6.2-6.9   7.3-10.4  \\\n",
       "134118   1.807114  0.679688  4.131042   3.451355  -2.807220  -3.845245   \n",
       "15319    0.161926 -3.117493 -1.080688   2.036804  -8.686646 -26.262909   \n",
       "53314    1.090668 -2.248199  2.787079   5.035278  -9.555450 -30.066437   \n",
       "162897   1.723541 -1.921539  1.570129   3.491669  -7.415115 -14.682205   \n",
       "180800   0.946899 -2.485626  2.421722   4.907349 -10.247162 -32.087677   \n",
       "...           ...       ...       ...        ...        ...        ...   \n",
       "210413   0.570099 -1.735931  0.106934   1.842865 -10.334091 -16.867737   \n",
       "210452   0.005280 -2.335663 -1.050751   1.284912 -10.387131 -17.246307   \n",
       "210887   0.232513 -1.964905 -0.658936   1.305969 -10.849243 -17.947601   \n",
       "211186   0.041534 -2.251801 -0.131805   2.119995  -9.317444 -27.278870   \n",
       "215392   1.166626 -2.502869  2.942200   5.445068 -11.907516 -36.492035   \n",
       "\n",
       "          7.3-9.6    6.2-9.6   7.3-12.4   7.3-13.3      prec  classification  \n",
       "134118  -5.282028 -10.161392  -0.393890   1.564331  0.000000               0  \n",
       "15319   -6.863220 -25.070496 -24.226105 -13.248596  0.000000               0  \n",
       "53314   -7.578064 -25.941254 -25.031158 -12.319885  0.000000               0  \n",
       "162897  -3.898163 -18.152283 -11.190536  -2.674103  0.000000               0  \n",
       "180800  -7.910004 -24.451736 -27.180328 -12.388245  0.000000               0  \n",
       "...           ...        ...        ...        ...       ...             ...  \n",
       "210413   0.266418 -18.301437 -15.024872  -6.422791  1.378972               1  \n",
       "210452   1.269440 -17.427872 -15.961395  -7.185486  0.447752               1  \n",
       "210887   0.041321 -19.241287 -16.641632  -7.743774  0.278448               1  \n",
       "211186  -5.652435 -22.434219 -25.158875 -12.217743  0.259473               1  \n",
       "215392 -12.628418 -36.389893 -31.046967 -15.209259  1.208396               1  \n",
       "\n",
       "[43907 rows x 12 columns]"
      ]
     },
     "execution_count": 49,
     "metadata": {},
     "output_type": "execute_result"
    }
   ],
   "source": [
    "df.iloc[:,:]"
   ]
  },
  {
   "cell_type": "code",
   "execution_count": 50,
   "metadata": {},
   "outputs": [],
   "source": [
    "bands_T = df.iloc[:,0:10]\n",
    "clf_T   = df.iloc[:,11]"
   ]
  },
  {
   "cell_type": "markdown",
   "metadata": {},
   "source": [
    "# MODELING"
   ]
  },
  {
   "cell_type": "markdown",
   "metadata": {},
   "source": [
    "### Classification Rain Area ( rain and no rain)"
   ]
  },
  {
   "cell_type": "code",
   "execution_count": 95,
   "metadata": {},
   "outputs": [],
   "source": [
    "#separate to train & test data\n",
    "X_train, X_val, y_train, y_val = train_test_split(bands_T, clf_T, random_state = 40, test_size = 0.2)"
   ]
  },
  {
   "cell_type": "code",
   "execution_count": 96,
   "metadata": {},
   "outputs": [],
   "source": [
    "# define model\n",
    "model_rainarea = RandomForestClassifier(n_estimators=500, oob_score= True)"
   ]
  },
  {
   "cell_type": "code",
   "execution_count": 97,
   "metadata": {},
   "outputs": [
    {
     "data": {
      "text/plain": [
       "RandomForestClassifier(n_estimators=500, oob_score=True)"
      ]
     },
     "execution_count": 97,
     "metadata": {},
     "output_type": "execute_result"
    }
   ],
   "source": [
    "#making model\n",
    "model_rainarea.fit(X_train, y_train)"
   ]
  },
  {
   "cell_type": "code",
   "execution_count": 98,
   "metadata": {},
   "outputs": [
    {
     "name": "stdout",
     "output_type": "stream",
     "text": [
      "[[705 441]\n",
      " [484 744]]\n",
      "              precision    recall  f1-score   support\n",
      "\n",
      "           0       0.59      0.62      0.60      1146\n",
      "           1       0.63      0.61      0.62      1228\n",
      "\n",
      "    accuracy                           0.61      2374\n",
      "   macro avg       0.61      0.61      0.61      2374\n",
      "weighted avg       0.61      0.61      0.61      2374\n",
      "\n"
     ]
    }
   ],
   "source": [
    "predict_rainarea = model_rainarea.predict(X_val)\n",
    "conf_matrix = confusion_matrix(predict_rainarea, y_val)\n",
    "print(conf_matrix)\n",
    "\n",
    "class_report = classification_report(predict_rainarea, y_val)\n",
    "print(class_report)"
   ]
  },
  {
   "cell_type": "markdown",
   "metadata": {},
   "source": [
    "======================================================================================="
   ]
  },
  {
   "cell_type": "code",
   "execution_count": 54,
   "metadata": {},
   "outputs": [],
   "source": [
    "ratioT =  1\n",
    "probT = ((hcnt*ratioT)/scnt)\n",
    "from sklearn.model_selection import train_test_split\n",
    "\n",
    "snum_train, snum_test, = train_test_split(snum, train_size=probT, random_state = 40)"
   ]
  },
  {
   "cell_type": "code",
   "execution_count": 55,
   "metadata": {},
   "outputs": [],
   "source": [
    "snum_test.sort()\n",
    "snum_train.sort()"
   ]
  },
  {
   "cell_type": "code",
   "execution_count": 56,
   "metadata": {},
   "outputs": [],
   "source": [
    "dfs = d1.loc[snum_train,:]\n",
    "dfh = d1.loc[hnum,:]\n",
    "\n",
    "dfs['class_T']= 0\n",
    "dfh['class_T']= 1\n",
    "df = pd.concat((dfs, dfh), axis=0)"
   ]
  },
  {
   "cell_type": "code",
   "execution_count": 57,
   "metadata": {},
   "outputs": [],
   "source": [
    "bands_T = df.iloc[:,0:10]\n",
    "clf_T   = df.iloc[:,11]"
   ]
  },
  {
   "cell_type": "code",
   "execution_count": 58,
   "metadata": {},
   "outputs": [
    {
     "data": {
      "text/html": [
       "<div>\n",
       "<style scoped>\n",
       "    .dataframe tbody tr th:only-of-type {\n",
       "        vertical-align: middle;\n",
       "    }\n",
       "\n",
       "    .dataframe tbody tr th {\n",
       "        vertical-align: top;\n",
       "    }\n",
       "\n",
       "    .dataframe thead th {\n",
       "        text-align: right;\n",
       "    }\n",
       "</style>\n",
       "<table border=\"1\" class=\"dataframe\">\n",
       "  <thead>\n",
       "    <tr style=\"text-align: right;\">\n",
       "      <th></th>\n",
       "      <th>10.4-11.2</th>\n",
       "      <th>8.6-10.4</th>\n",
       "      <th>8.6-12.4</th>\n",
       "      <th>10.4-12.4</th>\n",
       "      <th>6.2-6.9</th>\n",
       "      <th>7.3-10.4</th>\n",
       "      <th>7.3-9.6</th>\n",
       "      <th>6.2-9.6</th>\n",
       "      <th>7.3-12.4</th>\n",
       "      <th>7.3-13.3</th>\n",
       "    </tr>\n",
       "  </thead>\n",
       "  <tbody>\n",
       "    <tr>\n",
       "      <th>2185</th>\n",
       "      <td>1.693268</td>\n",
       "      <td>-0.234344</td>\n",
       "      <td>2.807648</td>\n",
       "      <td>3.041992</td>\n",
       "      <td>-10.066010</td>\n",
       "      <td>-11.341507</td>\n",
       "      <td>-0.093536</td>\n",
       "      <td>-18.093094</td>\n",
       "      <td>-8.299515</td>\n",
       "      <td>-1.406662</td>\n",
       "    </tr>\n",
       "    <tr>\n",
       "      <th>2335</th>\n",
       "      <td>1.763977</td>\n",
       "      <td>-0.443878</td>\n",
       "      <td>2.337662</td>\n",
       "      <td>2.781540</td>\n",
       "      <td>-9.351761</td>\n",
       "      <td>-10.337128</td>\n",
       "      <td>-0.005493</td>\n",
       "      <td>-17.050140</td>\n",
       "      <td>-7.555588</td>\n",
       "      <td>-1.023712</td>\n",
       "    </tr>\n",
       "    <tr>\n",
       "      <th>2362</th>\n",
       "      <td>1.132767</td>\n",
       "      <td>-0.458939</td>\n",
       "      <td>0.963654</td>\n",
       "      <td>1.422592</td>\n",
       "      <td>-6.950455</td>\n",
       "      <td>-7.259460</td>\n",
       "      <td>1.038467</td>\n",
       "      <td>-10.437454</td>\n",
       "      <td>-5.836868</td>\n",
       "      <td>-1.945023</td>\n",
       "    </tr>\n",
       "    <tr>\n",
       "      <th>2363</th>\n",
       "      <td>0.862427</td>\n",
       "      <td>-1.575211</td>\n",
       "      <td>0.544067</td>\n",
       "      <td>2.119278</td>\n",
       "      <td>-8.651108</td>\n",
       "      <td>-10.312042</td>\n",
       "      <td>0.125534</td>\n",
       "      <td>-14.610840</td>\n",
       "      <td>-8.192764</td>\n",
       "      <td>-2.451157</td>\n",
       "    </tr>\n",
       "    <tr>\n",
       "      <th>2364</th>\n",
       "      <td>0.726440</td>\n",
       "      <td>-1.129974</td>\n",
       "      <td>0.822052</td>\n",
       "      <td>1.952026</td>\n",
       "      <td>-11.704132</td>\n",
       "      <td>-14.559845</td>\n",
       "      <td>0.149261</td>\n",
       "      <td>-21.682678</td>\n",
       "      <td>-12.607819</td>\n",
       "      <td>-5.170166</td>\n",
       "    </tr>\n",
       "    <tr>\n",
       "      <th>...</th>\n",
       "      <td>...</td>\n",
       "      <td>...</td>\n",
       "      <td>...</td>\n",
       "      <td>...</td>\n",
       "      <td>...</td>\n",
       "      <td>...</td>\n",
       "      <td>...</td>\n",
       "      <td>...</td>\n",
       "      <td>...</td>\n",
       "      <td>...</td>\n",
       "    </tr>\n",
       "    <tr>\n",
       "      <th>201168</th>\n",
       "      <td>0.642334</td>\n",
       "      <td>-2.973602</td>\n",
       "      <td>0.721191</td>\n",
       "      <td>3.694794</td>\n",
       "      <td>-8.273315</td>\n",
       "      <td>-31.944519</td>\n",
       "      <td>-11.209625</td>\n",
       "      <td>-27.895370</td>\n",
       "      <td>-28.249725</td>\n",
       "      <td>-15.600494</td>\n",
       "    </tr>\n",
       "    <tr>\n",
       "      <th>201174</th>\n",
       "      <td>0.872345</td>\n",
       "      <td>-2.341125</td>\n",
       "      <td>1.732117</td>\n",
       "      <td>4.073242</td>\n",
       "      <td>-8.157089</td>\n",
       "      <td>-30.892273</td>\n",
       "      <td>-10.489777</td>\n",
       "      <td>-26.959518</td>\n",
       "      <td>-26.819031</td>\n",
       "      <td>-14.610931</td>\n",
       "    </tr>\n",
       "    <tr>\n",
       "      <th>201176</th>\n",
       "      <td>0.664581</td>\n",
       "      <td>-2.849487</td>\n",
       "      <td>1.487976</td>\n",
       "      <td>4.337463</td>\n",
       "      <td>-8.316498</td>\n",
       "      <td>-34.420654</td>\n",
       "      <td>-13.204926</td>\n",
       "      <td>-29.957397</td>\n",
       "      <td>-30.083191</td>\n",
       "      <td>-16.242432</td>\n",
       "    </tr>\n",
       "    <tr>\n",
       "      <th>206851</th>\n",
       "      <td>0.076019</td>\n",
       "      <td>-1.991425</td>\n",
       "      <td>1.083954</td>\n",
       "      <td>3.075378</td>\n",
       "      <td>-11.510803</td>\n",
       "      <td>-27.880371</td>\n",
       "      <td>-4.658875</td>\n",
       "      <td>-24.471039</td>\n",
       "      <td>-24.804993</td>\n",
       "      <td>-9.667847</td>\n",
       "    </tr>\n",
       "    <tr>\n",
       "      <th>210361</th>\n",
       "      <td>0.396118</td>\n",
       "      <td>-1.760437</td>\n",
       "      <td>0.214417</td>\n",
       "      <td>1.974854</td>\n",
       "      <td>-9.901993</td>\n",
       "      <td>-17.502289</td>\n",
       "      <td>-0.211121</td>\n",
       "      <td>-18.346878</td>\n",
       "      <td>-15.527435</td>\n",
       "      <td>-6.948456</td>\n",
       "    </tr>\n",
       "  </tbody>\n",
       "</table>\n",
       "<p>11870 rows × 10 columns</p>\n",
       "</div>"
      ],
      "text/plain": [
       "        10.4-11.2  8.6-10.4  8.6-12.4  10.4-12.4    6.2-6.9   7.3-10.4  \\\n",
       "2185     1.693268 -0.234344  2.807648   3.041992 -10.066010 -11.341507   \n",
       "2335     1.763977 -0.443878  2.337662   2.781540  -9.351761 -10.337128   \n",
       "2362     1.132767 -0.458939  0.963654   1.422592  -6.950455  -7.259460   \n",
       "2363     0.862427 -1.575211  0.544067   2.119278  -8.651108 -10.312042   \n",
       "2364     0.726440 -1.129974  0.822052   1.952026 -11.704132 -14.559845   \n",
       "...           ...       ...       ...        ...        ...        ...   \n",
       "201168   0.642334 -2.973602  0.721191   3.694794  -8.273315 -31.944519   \n",
       "201174   0.872345 -2.341125  1.732117   4.073242  -8.157089 -30.892273   \n",
       "201176   0.664581 -2.849487  1.487976   4.337463  -8.316498 -34.420654   \n",
       "206851   0.076019 -1.991425  1.083954   3.075378 -11.510803 -27.880371   \n",
       "210361   0.396118 -1.760437  0.214417   1.974854  -9.901993 -17.502289   \n",
       "\n",
       "          7.3-9.6    6.2-9.6   7.3-12.4   7.3-13.3  \n",
       "2185    -0.093536 -18.093094  -8.299515  -1.406662  \n",
       "2335    -0.005493 -17.050140  -7.555588  -1.023712  \n",
       "2362     1.038467 -10.437454  -5.836868  -1.945023  \n",
       "2363     0.125534 -14.610840  -8.192764  -2.451157  \n",
       "2364     0.149261 -21.682678 -12.607819  -5.170166  \n",
       "...           ...        ...        ...        ...  \n",
       "201168 -11.209625 -27.895370 -28.249725 -15.600494  \n",
       "201174 -10.489777 -26.959518 -26.819031 -14.610931  \n",
       "201176 -13.204926 -29.957397 -30.083191 -16.242432  \n",
       "206851  -4.658875 -24.471039 -24.804993  -9.667847  \n",
       "210361  -0.211121 -18.346878 -15.527435  -6.948456  \n",
       "\n",
       "[11870 rows x 10 columns]"
      ]
     },
     "execution_count": 58,
     "metadata": {},
     "output_type": "execute_result"
    }
   ],
   "source": [
    "bands_T"
   ]
  },
  {
   "cell_type": "markdown",
   "metadata": {},
   "source": [
    "### Classification Rain Type (strong or Weak rain)"
   ]
  },
  {
   "cell_type": "code",
   "execution_count": 59,
   "metadata": {},
   "outputs": [],
   "source": [
    "#separate to train & test data\n",
    "X_train_T, X_val_T, y_train_T, y_val_T = train_test_split(bands_T, clf_T, random_state = 92, test_size = 0.2)"
   ]
  },
  {
   "cell_type": "code",
   "execution_count": 60,
   "metadata": {},
   "outputs": [],
   "source": [
    "# define model\n",
    "model_Type = RandomForestClassifier(n_estimators=500, oob_score= True)"
   ]
  },
  {
   "cell_type": "code",
   "execution_count": 61,
   "metadata": {},
   "outputs": [
    {
     "data": {
      "text/plain": [
       "RandomForestClassifier(n_estimators=500, oob_score=True)"
      ]
     },
     "execution_count": 61,
     "metadata": {},
     "output_type": "execute_result"
    }
   ],
   "source": [
    "#making model\n",
    "model_Type.fit(X_train_T, y_train_T)"
   ]
  },
  {
   "cell_type": "code",
   "execution_count": 101,
   "metadata": {},
   "outputs": [
    {
     "name": "stdout",
     "output_type": "stream",
     "text": [
      "[[742 453]\n",
      " [437 742]]\n",
      "              precision    recall  f1-score   support\n",
      "\n",
      "           0       0.63      0.62      0.63      1195\n",
      "           1       0.62      0.63      0.63      1179\n",
      "\n",
      "    accuracy                           0.63      2374\n",
      "   macro avg       0.63      0.63      0.63      2374\n",
      "weighted avg       0.63      0.63      0.63      2374\n",
      "\n"
     ]
    }
   ],
   "source": [
    "predict_raintype = model_Type.predict(X_val_T)\n",
    "conf_matrix_T = confusion_matrix(predict_raintype, y_val_T)\n",
    "print(conf_matrix_T)\n",
    "\n",
    "class_report_T = classification_report(predict_raintype, y_val_T)\n",
    "print(class_report_T)"
   ]
  },
  {
   "cell_type": "markdown",
   "metadata": {},
   "source": [
    "================================================================="
   ]
  },
  {
   "cell_type": "markdown",
   "metadata": {},
   "source": [
    "================================================================="
   ]
  },
  {
   "cell_type": "markdown",
   "metadata": {},
   "source": [
    "#### Regression to get weak Rain value"
   ]
  },
  {
   "cell_type": "code",
   "execution_count": 108,
   "metadata": {},
   "outputs": [],
   "source": [
    "band_weak = dfs.iloc[:,0:10] \n",
    "rain_weak = dfs.iloc[:,10]"
   ]
  },
  {
   "cell_type": "code",
   "execution_count": 109,
   "metadata": {},
   "outputs": [],
   "source": [
    "#separate to train & test data\n",
    "X_train_Rw, X_val_Rw, y_train_Rw, y_val_Rw = train_test_split(band_weak, rain_weak, random_state = 40, test_size = 0.2)"
   ]
  },
  {
   "cell_type": "code",
   "execution_count": 110,
   "metadata": {},
   "outputs": [],
   "source": [
    "# define model\n",
    "model_Rw = RandomForestRegressor(oob_score = True)"
   ]
  },
  {
   "cell_type": "code",
   "execution_count": 111,
   "metadata": {},
   "outputs": [
    {
     "data": {
      "text/plain": [
       "RandomForestRegressor(oob_score=True)"
      ]
     },
     "execution_count": 111,
     "metadata": {},
     "output_type": "execute_result"
    }
   ],
   "source": [
    "#making model\n",
    "model_Rw.fit(X_train_Rw, y_train_Rw)"
   ]
  },
  {
   "cell_type": "code",
   "execution_count": 116,
   "metadata": {},
   "outputs": [],
   "source": [
    "predict_Rw = model_Rw.predict(X_val_Rw)"
   ]
  },
  {
   "cell_type": "code",
   "execution_count": 119,
   "metadata": {},
   "outputs": [
    {
     "name": "stdout",
     "output_type": "stream",
     "text": [
      "0.36019958485290726\n"
     ]
    }
   ],
   "source": [
    "MAE = mean_absolute_error(predict_Rw, y_val_Rw)\n",
    "print(MAE)"
   ]
  },
  {
   "cell_type": "markdown",
   "metadata": {},
   "source": [
    "==========================================================\n",
    "#### Regression to get Strong Rain value"
   ]
  },
  {
   "cell_type": "code",
   "execution_count": 120,
   "metadata": {},
   "outputs": [],
   "source": [
    "band_strong = dfh.iloc[:,0:10] \n",
    "rain_strong = dfh.iloc[:,10]"
   ]
  },
  {
   "cell_type": "code",
   "execution_count": 121,
   "metadata": {},
   "outputs": [],
   "source": [
    "#separate to train & test data\n",
    "X_train_Rs, X_val_Rs, y_train_Rs, y_val_Rs = train_test_split(band_strong, rain_strong, random_state = 40, test_size = 0.2)"
   ]
  },
  {
   "cell_type": "code",
   "execution_count": 122,
   "metadata": {},
   "outputs": [],
   "source": [
    "# define model\n",
    "model_Rs = RandomForestRegressor(oob_score = True)"
   ]
  },
  {
   "cell_type": "code",
   "execution_count": 123,
   "metadata": {},
   "outputs": [
    {
     "data": {
      "text/plain": [
       "RandomForestRegressor(oob_score=True)"
      ]
     },
     "execution_count": 123,
     "metadata": {},
     "output_type": "execute_result"
    }
   ],
   "source": [
    "#making model\n",
    "model_Rs.fit(X_train_Rs, y_train_Rs)"
   ]
  },
  {
   "cell_type": "code",
   "execution_count": 124,
   "metadata": {},
   "outputs": [],
   "source": [
    "predict_Rs = model_Rs.predict(X_val_Rs)"
   ]
  },
  {
   "cell_type": "code",
   "execution_count": 126,
   "metadata": {},
   "outputs": [
    {
     "name": "stdout",
     "output_type": "stream",
     "text": [
      "5.3861427759831955\n"
     ]
    }
   ],
   "source": [
    "MAE = mean_absolute_error(predict_Rs, y_val_Rs)\n",
    "print(MAE)"
   ]
  },
  {
   "cell_type": "markdown",
   "metadata": {},
   "source": [
    "# Nama model\n"
   ]
  },
  {
   "cell_type": "code",
   "execution_count": 71,
   "metadata": {},
   "outputs": [
    {
     "name": "stdout",
     "output_type": "stream",
     "text": [
      " model_rainarea \n",
      ", model_Type \n",
      ", model_Rw \n",
      " ,model_Rs\n"
     ]
    }
   ],
   "source": [
    "print (\" model_rainarea \\n, model_Type \\n, model_Rw \\n ,model_Rs\")"
   ]
  },
  {
   "cell_type": "code",
   "execution_count": null,
   "metadata": {},
   "outputs": [],
   "source": []
  },
  {
   "cell_type": "markdown",
   "metadata": {},
   "source": [
    "# Save the Model"
   ]
  },
  {
   "cell_type": "code",
   "execution_count": 133,
   "metadata": {},
   "outputs": [],
   "source": [
    "import joblib "
   ]
  },
  {
   "cell_type": "code",
   "execution_count": 135,
   "metadata": {},
   "outputs": [
    {
     "data": {
      "text/plain": [
       "['M_Rstrong.pkl']"
      ]
     },
     "execution_count": 135,
     "metadata": {},
     "output_type": "execute_result"
    }
   ],
   "source": [
    "# Save the model as a pickle in a file \n",
    "joblib.dump(model_rainarea, 'M_RArea.pkl')\n",
    "joblib.dump(model_Type, 'M_RType.pkl')\n",
    "joblib.dump(model_Rw, 'M_Rweak.pkl')\n",
    "joblib.dump(model_Rs, 'M_Rstrong.pkl')"
   ]
  }
 ],
 "metadata": {
  "kernelspec": {
   "display_name": "Python 3",
   "language": "python",
   "name": "python3"
  },
  "language_info": {
   "codemirror_mode": {
    "name": "ipython",
    "version": 3
   },
   "file_extension": ".py",
   "mimetype": "text/x-python",
   "name": "python",
   "nbconvert_exporter": "python",
   "pygments_lexer": "ipython3",
   "version": "3.8.5"
  }
 },
 "nbformat": 4,
 "nbformat_minor": 4
}
