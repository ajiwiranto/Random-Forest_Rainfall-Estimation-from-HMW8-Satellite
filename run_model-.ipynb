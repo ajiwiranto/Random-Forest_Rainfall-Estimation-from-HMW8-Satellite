{
 "cells": [
  {
   "cell_type": "code",
   "execution_count": 2,
   "metadata": {},
   "outputs": [
    {
     "name": "stderr",
     "output_type": "stream",
     "text": [
      "/home/ajiwiranto/miniconda3/lib/python3.7/site-packages/sklearn/externals/joblib/__init__.py:15: FutureWarning: sklearn.externals.joblib is deprecated in 0.21 and will be removed in 0.23. Please import this functionality directly from joblib, which can be installed with: pip install joblib. If this warning is raised when loading pickled models, you may need to re-serialize those models with scikit-learn 0.21+.\n",
      "  warnings.warn(msg, category=FutureWarning)\n"
     ]
    }
   ],
   "source": [
    "import numpy as np\n",
    "import os\n",
    "import glob\n",
    "from scipy import interpolate\n",
    "from netCDF4 import Dataset\n",
    "import pandas as pd\n",
    "from global_land_mask import globe\n",
    "from sklearn.externals import joblib \n",
    "\n",
    "# import warnings\n",
    "# warnings.filterwarnings(\"ignore\", category=UserWarning)"
   ]
  },
  {
   "cell_type": "code",
   "execution_count": 3,
   "metadata": {},
   "outputs": [],
   "source": [
    "#split data\n",
    "from sklearn.model_selection import train_test_split\n",
    "\n",
    "#ML_model_random Forest\n",
    "from sklearn.ensemble import RandomForestRegressor\n",
    "from sklearn.ensemble import RandomForestClassifier\n",
    "\n",
    "#metrics\n",
    "from sklearn.metrics import mean_absolute_error\n",
    "from sklearn.metrics import mean_squared_error\n",
    "from sklearn.metrics import r2_score\n",
    "from sklearn.metrics import confusion_matrix,classification_report"
   ]
  },
  {
   "cell_type": "raw",
   "metadata": {},
   "source": [
    "#open Data if model saved as .pkl"
   ]
  },
  {
   "cell_type": "code",
   "execution_count": 4,
   "metadata": {},
   "outputs": [],
   "source": [
    "# model_rainarea = joblib.load('model/M_RA.pkl') \n",
    "# model_Type = joblib.load('model/M_RT.pkl')\n",
    "# model_Rw =joblib.load('model/M_Rw.pkl')\n",
    "# model_Rs = joblib.load('model/M_Rs.pkl')"
   ]
  },
  {
   "cell_type": "raw",
   "metadata": {},
   "source": [
    "#just running model in format .py"
   ]
  },
  {
   "cell_type": "code",
   "execution_count": 5,
   "metadata": {},
   "outputs": [],
   "source": [
    "# #open model\n",
    "# %run -i '/home/ajiwiranto/Documents/kodingan/TA/df_hmwr-gpm/random_forest/python/implementation/fix_script/RF_model.py'"
   ]
  },
  {
   "cell_type": "markdown",
   "metadata": {},
   "source": [
    "# Read Himawari Data"
   ]
  },
  {
   "cell_type": "code",
   "execution_count": 11,
   "metadata": {},
   "outputs": [],
   "source": [
    "#data himawari\n",
    "data = sorted(glob.glob('C:data/*.nc'))"
   ]
  },
  {
   "cell_type": "code",
   "execution_count": 12,
   "metadata": {},
   "outputs": [
    {
     "data": {
      "text/plain": [
       "['/home/ajiwiranto/Documents/Tugas_Akhir/kodingan/random_forest/python/implementation/fix_script_1/data_studikasus/himawari/coba/bm_tir01_201901010000.nc',\n",
       " '/home/ajiwiranto/Documents/Tugas_Akhir/kodingan/random_forest/python/implementation/fix_script_1/data_studikasus/himawari/coba/bm_tir02_201901010000.nc',\n",
       " '/home/ajiwiranto/Documents/Tugas_Akhir/kodingan/random_forest/python/implementation/fix_script_1/data_studikasus/himawari/coba/bm_tir03_201901010000.nc',\n",
       " '/home/ajiwiranto/Documents/Tugas_Akhir/kodingan/random_forest/python/implementation/fix_script_1/data_studikasus/himawari/coba/bm_tir04_201901010000.nc',\n",
       " '/home/ajiwiranto/Documents/Tugas_Akhir/kodingan/random_forest/python/implementation/fix_script_1/data_studikasus/himawari/coba/bm_tir05_201901010000.nc',\n",
       " '/home/ajiwiranto/Documents/Tugas_Akhir/kodingan/random_forest/python/implementation/fix_script_1/data_studikasus/himawari/coba/bm_tir06_201901010000.nc',\n",
       " '/home/ajiwiranto/Documents/Tugas_Akhir/kodingan/random_forest/python/implementation/fix_script_1/data_studikasus/himawari/coba/bm_tir07_201901010000.nc',\n",
       " '/home/ajiwiranto/Documents/Tugas_Akhir/kodingan/random_forest/python/implementation/fix_script_1/data_studikasus/himawari/coba/bm_tir08_201901010000.nc',\n",
       " '/home/ajiwiranto/Documents/Tugas_Akhir/kodingan/random_forest/python/implementation/fix_script_1/data_studikasus/himawari/coba/bm_tir09_201901010000.nc',\n",
       " '/home/ajiwiranto/Documents/Tugas_Akhir/kodingan/random_forest/python/implementation/fix_script_1/data_studikasus/himawari/coba/bm_tir10_201901010000.nc']"
      ]
     },
     "execution_count": 12,
     "metadata": {},
     "output_type": "execute_result"
    }
   ],
   "source": [
    "data"
   ]
  },
  {
   "cell_type": "code",
   "execution_count": 13,
   "metadata": {},
   "outputs": [],
   "source": [
    "key=['b13','b14','b15','b16','b7','b8','b9','b10','b11','b12'] \n",
    "\n",
    "IR={}\n",
    "for i in range(0,np.size(data)):\n",
    "    IR[key[i]]=Dataset(data[i])['bt'][:]\n",
    "IR['lon']=Dataset(data[0])['lon'][:]\n",
    "IR['lat']=Dataset(data[0])['lat'][:]\n"
   ]
  },
  {
   "cell_type": "code",
   "execution_count": 14,
   "metadata": {},
   "outputs": [
    {
     "data": {
      "text/plain": [
       "(masked_array(data=[105.6 , 105.62, 105.64, 105.66, 105.68, 105.7 , 105.72,\n",
       "                    105.74, 105.76, 105.78, 105.8 , 105.82, 105.84, 105.86,\n",
       "                    105.88, 105.9 , 105.92, 105.94, 105.96, 105.98, 106.  ,\n",
       "                    106.02, 106.04, 106.06, 106.08, 106.1 , 106.12, 106.14,\n",
       "                    106.16, 106.18, 106.2 , 106.22, 106.24, 106.26, 106.28,\n",
       "                    106.3 , 106.32, 106.34, 106.36, 106.38, 106.4 , 106.42,\n",
       "                    106.44, 106.46, 106.48, 106.5 , 106.52, 106.54, 106.56,\n",
       "                    106.58, 106.6 , 106.62, 106.64, 106.66, 106.68, 106.7 ,\n",
       "                    106.72, 106.74, 106.76, 106.78, 106.8 , 106.82, 106.84,\n",
       "                    106.86, 106.88, 106.9 , 106.92, 106.94, 106.96, 106.98,\n",
       "                    107.  , 107.02, 107.04, 107.06, 107.08, 107.1 , 107.12,\n",
       "                    107.14, 107.16, 107.18, 107.2 , 107.22, 107.24, 107.26,\n",
       "                    107.28, 107.3 , 107.32, 107.34, 107.36, 107.38, 107.4 ,\n",
       "                    107.42, 107.44, 107.46, 107.48, 107.5 , 107.52, 107.54,\n",
       "                    107.56, 107.58, 107.6 , 107.62, 107.64, 107.66, 107.68,\n",
       "                    107.7 , 107.72, 107.74, 107.76, 107.78, 107.8 , 107.82,\n",
       "                    107.84, 107.86, 107.88, 107.9 , 107.92, 107.94, 107.96,\n",
       "                    107.98, 108.  , 108.02, 108.04, 108.06, 108.08, 108.1 ,\n",
       "                    108.12, 108.14, 108.16, 108.18, 108.2 , 108.22, 108.24,\n",
       "                    108.26, 108.28, 108.3 , 108.32, 108.34, 108.36, 108.38,\n",
       "                    108.4 , 108.42, 108.44, 108.46, 108.48, 108.5 , 108.52,\n",
       "                    108.54, 108.56, 108.58, 108.6 , 108.62, 108.64, 108.66,\n",
       "                    108.68, 108.7 , 108.72, 108.74, 108.76, 108.78, 108.8 ,\n",
       "                    108.82, 108.84, 108.86, 108.88, 108.9 , 108.92, 108.94,\n",
       "                    108.96, 108.98, 109.  , 109.02, 109.04, 109.06, 109.08,\n",
       "                    109.1 , 109.12, 109.14, 109.16, 109.18, 109.2 , 109.22,\n",
       "                    109.24, 109.26, 109.28, 109.3 , 109.32, 109.34, 109.36,\n",
       "                    109.38, 109.4 , 109.42, 109.44, 109.46, 109.48, 109.5 ,\n",
       "                    109.52, 109.54, 109.56, 109.58, 109.6 , 109.62, 109.64,\n",
       "                    109.66, 109.68, 109.7 , 109.72, 109.74, 109.76, 109.78,\n",
       "                    109.8 , 109.82, 109.84, 109.86, 109.88, 109.9 , 109.92,\n",
       "                    109.94, 109.96, 109.98, 110.  , 110.02, 110.04, 110.06,\n",
       "                    110.08, 110.1 , 110.12, 110.14, 110.16, 110.18, 110.2 ,\n",
       "                    110.22, 110.24, 110.26, 110.28, 110.3 , 110.32, 110.34,\n",
       "                    110.36, 110.38, 110.4 , 110.42, 110.44, 110.46, 110.48,\n",
       "                    110.5 , 110.52, 110.54, 110.56, 110.58, 110.6 , 110.62,\n",
       "                    110.64, 110.66, 110.68, 110.7 , 110.72, 110.74, 110.76,\n",
       "                    110.78, 110.8 , 110.82, 110.84, 110.86, 110.88, 110.9 ,\n",
       "                    110.92, 110.94, 110.96, 110.98, 111.  , 111.02, 111.04,\n",
       "                    111.06, 111.08, 111.1 , 111.12, 111.14, 111.16, 111.18,\n",
       "                    111.2 , 111.22, 111.24, 111.26, 111.28, 111.3 , 111.32,\n",
       "                    111.34, 111.36, 111.38, 111.4 , 111.42, 111.44, 111.46,\n",
       "                    111.48, 111.5 , 111.52, 111.54, 111.56, 111.58, 111.6 ,\n",
       "                    111.62, 111.64, 111.66, 111.68, 111.7 , 111.72, 111.74,\n",
       "                    111.76, 111.78, 111.8 , 111.82, 111.84, 111.86, 111.88,\n",
       "                    111.9 , 111.92, 111.94, 111.96, 111.98, 112.  , 112.02,\n",
       "                    112.04, 112.06, 112.08, 112.1 , 112.12, 112.14, 112.16,\n",
       "                    112.18, 112.2 , 112.22, 112.24, 112.26, 112.28, 112.3 ,\n",
       "                    112.32, 112.34, 112.36, 112.38, 112.4 , 112.42, 112.44,\n",
       "                    112.46, 112.48, 112.5 , 112.52, 112.54, 112.56, 112.58,\n",
       "                    112.6 , 112.62, 112.64, 112.66, 112.68, 112.7 , 112.72,\n",
       "                    112.74, 112.76, 112.78, 112.8 , 112.82, 112.84, 112.86,\n",
       "                    112.88, 112.9 , 112.92, 112.94, 112.96, 112.98, 113.  ,\n",
       "                    113.02, 113.04, 113.06, 113.08, 113.1 , 113.12, 113.14,\n",
       "                    113.16, 113.18, 113.2 , 113.22, 113.24, 113.26, 113.28,\n",
       "                    113.3 , 113.32, 113.34, 113.36, 113.38, 113.4 , 113.42,\n",
       "                    113.44, 113.46, 113.48, 113.5 , 113.52, 113.54, 113.56,\n",
       "                    113.58, 113.6 , 113.62, 113.64, 113.66, 113.68, 113.7 ,\n",
       "                    113.72, 113.74, 113.76, 113.78, 113.8 , 113.82, 113.84,\n",
       "                    113.86, 113.88, 113.9 , 113.92, 113.94, 113.96, 113.98,\n",
       "                    114.  , 114.02, 114.04, 114.06, 114.08, 114.1 , 114.12,\n",
       "                    114.14, 114.16, 114.18, 114.2 , 114.22, 114.24, 114.26,\n",
       "                    114.28, 114.3 ],\n",
       "              mask=False,\n",
       "        fill_value=1e+20),\n",
       " masked_array(data=[-8.5 , -8.48, -8.46, -8.44, -8.42, -8.4 , -8.38, -8.36,\n",
       "                    -8.34, -8.32, -8.3 , -8.28, -8.26, -8.24, -8.22, -8.2 ,\n",
       "                    -8.18, -8.16, -8.14, -8.12, -8.1 , -8.08, -8.06, -8.04,\n",
       "                    -8.02, -8.  , -7.98, -7.96, -7.94, -7.92, -7.9 , -7.88,\n",
       "                    -7.86, -7.84, -7.82, -7.8 , -7.78, -7.76, -7.74, -7.72,\n",
       "                    -7.7 , -7.68, -7.66, -7.64, -7.62, -7.6 , -7.58, -7.56,\n",
       "                    -7.54, -7.52, -7.5 , -7.48, -7.46, -7.44, -7.42, -7.4 ,\n",
       "                    -7.38, -7.36, -7.34, -7.32, -7.3 , -7.28, -7.26, -7.24,\n",
       "                    -7.22, -7.2 , -7.18, -7.16, -7.14, -7.12, -7.1 , -7.08,\n",
       "                    -7.06, -7.04, -7.02, -7.  , -6.98, -6.96, -6.94, -6.92,\n",
       "                    -6.9 , -6.88, -6.86, -6.84, -6.82, -6.8 , -6.78, -6.76,\n",
       "                    -6.74, -6.72, -6.7 , -6.68, -6.66, -6.64, -6.62, -6.6 ,\n",
       "                    -6.58, -6.56, -6.54, -6.52, -6.5 , -6.48, -6.46, -6.44,\n",
       "                    -6.42, -6.4 , -6.38, -6.36, -6.34, -6.32, -6.3 , -6.28,\n",
       "                    -6.26, -6.24, -6.22, -6.2 , -6.18, -6.16, -6.14, -6.12,\n",
       "                    -6.1 , -6.08, -6.06, -6.04, -6.02, -6.  , -5.98, -5.96,\n",
       "                    -5.94, -5.92, -5.9 , -5.88, -5.86, -5.84, -5.82, -5.8 ],\n",
       "              mask=False,\n",
       "        fill_value=1e+20))"
      ]
     },
     "execution_count": 14,
     "metadata": {},
     "output_type": "execute_result"
    }
   ],
   "source": [
    "IR['lon'][:], IR['lat'][:]"
   ]
  },
  {
   "cell_type": "code",
   "execution_count": 15,
   "metadata": {},
   "outputs": [],
   "source": [
    "#domain \n",
    "south, north = -7.2, -6.74\n",
    "west, east =  107.45, 107.9"
   ]
  },
  {
   "cell_type": "code",
   "execution_count": 16,
   "metadata": {},
   "outputs": [],
   "source": [
    "hor_res=0.05 #ukuran grid\n",
    "grid_x, grid_y = np.mgrid[west:east:hor_res, south:north:hor_res]"
   ]
  },
  {
   "cell_type": "code",
   "execution_count": 17,
   "metadata": {},
   "outputs": [],
   "source": [
    "#interpolasi ke resolusi GPM yg di atas (0.05 deg)\n",
    "x,y=np.meshgrid(IR['lon'],IR['lat'])\n",
    "points=np.vstack((x.reshape(-1),y.reshape(-1)))\n",
    "points=points.T\n",
    "#\n",
    "zH={}\n",
    "for i in range(0,np.size(data)):\n",
    "    zH[key[i]]=interpolate.griddata(points,IR[key[i]].reshape(-1),(grid_x,grid_y),method='nearest')\n",
    "zH['lon']=grid_x[:,0]\n",
    "zH['lat']=grid_y[0,:]"
   ]
  },
  {
   "cell_type": "code",
   "execution_count": 28,
   "metadata": {},
   "outputs": [
    {
     "data": {
      "text/plain": [
       "masked_array(\n",
       "  data=[[105.6 ,  -8.5 ],\n",
       "        [105.62,  -8.5 ],\n",
       "        [105.64,  -8.5 ],\n",
       "        ...,\n",
       "        [114.26,  -5.8 ],\n",
       "        [114.28,  -5.8 ],\n",
       "        [114.3 ,  -5.8 ]],\n",
       "  mask=False,\n",
       "  fill_value=1e+20)"
      ]
     },
     "execution_count": 28,
     "metadata": {},
     "output_type": "execute_result"
    }
   ],
   "source": [
    "points"
   ]
  },
  {
   "cell_type": "code",
   "execution_count": 27,
   "metadata": {},
   "outputs": [
    {
     "data": {
      "text/plain": [
       "(59296,)"
      ]
     },
     "execution_count": 27,
     "metadata": {},
     "output_type": "execute_result"
    }
   ],
   "source": [
    "IR['b13'].reshape(-1).shape"
   ]
  },
  {
   "cell_type": "code",
   "execution_count": 22,
   "metadata": {},
   "outputs": [],
   "source": [
    "#membuat dataFrame untuk seluruh BT, kombinasi BTD, dan CH GPM \n",
    "\n",
    "#ini yg himawari\n",
    "d1 = {}\n",
    "d1['lat'] = np.repeat(zH['lat'], zH['lon'].size)\n",
    "d1['lon'] = np.tile(zH['lon'], zH['lat'].size)\n",
    "# d1['prec']= zG.T.ravel()\n",
    "#d1['3.9'] = zH['b7'].T.ravel()\n",
    "d1['6.2'] = zH['b8'].T.ravel()\n",
    "d1['6.9'] = zH['b9'].T.ravel()\n",
    "d1['7.3'] = zH['b10'].T.ravel()\n",
    "d1['8.6'] = zH['b11'].T.ravel()\n",
    "d1['9.6'] = zH['b12'].T.ravel()\n",
    "d1['10.4']= zH['b13'].T.ravel()\n",
    "d1['11.2']= zH['b14'].T.ravel()\n",
    "d1['12.4']= zH['b15'].T.ravel()\n",
    "d1['13.3']= zH['b16'].T.ravel()\n",
    "\n",
    "d1['6.2-6.9'] = d1['6.2']-d1['6.9']\n",
    "d1['6.2-9.6'] = d1['6.2']-d1['9.6']\n",
    "\n",
    "d1['7.3-9.6'] = d1['7.3']-d1['9.6']\n",
    "d1['7.3-10.4'] = d1['7.3']-d1['10.4']\n",
    "d1['7.3-12.4'] = d1['7.3']-d1['12.4']\n",
    "d1['7.3-13.3'] = d1['7.3']-d1['13.3']\n",
    "\n",
    "d1['8.6-10.4'] = d1['8.6']-d1['10.4']\n",
    "d1['8.6-12.4'] = d1['8.6']-d1['12.4']\n",
    "\n",
    "d1['10.4-11.2'] = d1['10.4']-d1['11.2']\n",
    "d1['10.4-12.4'] = d1['10.4']-d1['12.4']\n",
    "\n",
    "df1 = pd.DataFrame(d1)\n",
    "# df.to_excel('HIMAWARI_201903250900.xlsx')"
   ]
  },
  {
   "cell_type": "markdown",
   "metadata": {},
   "source": [
    "# data_model"
   ]
  },
  {
   "cell_type": "markdown",
   "metadata": {},
   "source": [
    "model_rainarea \n",
    ", model_Type \n",
    ", model_Rw \n",
    " ,model_Rs"
   ]
  },
  {
   "cell_type": "code",
   "execution_count": 137,
   "metadata": {},
   "outputs": [],
   "source": [
    "dat = df1[['lon','lat','10.4-11.2', '8.6-10.4','8.6-12.4','10.4-12.4','6.2-6.9',\n",
    "           '7.3-10.4', '7.3-9.6','6.2-9.6', '7.3-12.4','7.3-13.3']]"
   ]
  },
  {
   "cell_type": "code",
   "execution_count": 138,
   "metadata": {},
   "outputs": [
    {
     "data": {
      "text/html": [
       "<div>\n",
       "<style scoped>\n",
       "    .dataframe tbody tr th:only-of-type {\n",
       "        vertical-align: middle;\n",
       "    }\n",
       "\n",
       "    .dataframe tbody tr th {\n",
       "        vertical-align: top;\n",
       "    }\n",
       "\n",
       "    .dataframe thead th {\n",
       "        text-align: right;\n",
       "    }\n",
       "</style>\n",
       "<table border=\"1\" class=\"dataframe\">\n",
       "  <thead>\n",
       "    <tr style=\"text-align: right;\">\n",
       "      <th></th>\n",
       "      <th>lon</th>\n",
       "      <th>lat</th>\n",
       "      <th>10.4-11.2</th>\n",
       "      <th>8.6-10.4</th>\n",
       "      <th>8.6-12.4</th>\n",
       "      <th>10.4-12.4</th>\n",
       "      <th>6.2-6.9</th>\n",
       "      <th>7.3-10.4</th>\n",
       "      <th>7.3-9.6</th>\n",
       "      <th>6.2-9.6</th>\n",
       "      <th>7.3-12.4</th>\n",
       "      <th>7.3-13.3</th>\n",
       "    </tr>\n",
       "  </thead>\n",
       "  <tbody>\n",
       "    <tr>\n",
       "      <th>0</th>\n",
       "      <td>107.45</td>\n",
       "      <td>-7.20</td>\n",
       "      <td>0.929596</td>\n",
       "      <td>-1.500000</td>\n",
       "      <td>-0.153778</td>\n",
       "      <td>1.346222</td>\n",
       "      <td>-1.457260</td>\n",
       "      <td>-3.009903</td>\n",
       "      <td>-10.130066</td>\n",
       "      <td>-12.196426</td>\n",
       "      <td>-1.663681</td>\n",
       "      <td>-0.952057</td>\n",
       "    </tr>\n",
       "    <tr>\n",
       "      <th>1</th>\n",
       "      <td>107.50</td>\n",
       "      <td>-7.20</td>\n",
       "      <td>2.096924</td>\n",
       "      <td>-1.053574</td>\n",
       "      <td>1.479980</td>\n",
       "      <td>2.533554</td>\n",
       "      <td>-0.961578</td>\n",
       "      <td>-1.911011</td>\n",
       "      <td>-10.064651</td>\n",
       "      <td>-12.303391</td>\n",
       "      <td>0.622543</td>\n",
       "      <td>1.307343</td>\n",
       "    </tr>\n",
       "    <tr>\n",
       "      <th>2</th>\n",
       "      <td>107.55</td>\n",
       "      <td>-7.20</td>\n",
       "      <td>1.564148</td>\n",
       "      <td>-1.410751</td>\n",
       "      <td>0.859756</td>\n",
       "      <td>2.270508</td>\n",
       "      <td>-3.840759</td>\n",
       "      <td>-4.602432</td>\n",
       "      <td>-0.360962</td>\n",
       "      <td>-5.760422</td>\n",
       "      <td>-2.331924</td>\n",
       "      <td>0.025208</td>\n",
       "    </tr>\n",
       "    <tr>\n",
       "      <th>3</th>\n",
       "      <td>107.60</td>\n",
       "      <td>-7.20</td>\n",
       "      <td>1.789368</td>\n",
       "      <td>-0.469772</td>\n",
       "      <td>3.162201</td>\n",
       "      <td>3.631973</td>\n",
       "      <td>-7.028564</td>\n",
       "      <td>-9.221558</td>\n",
       "      <td>0.266220</td>\n",
       "      <td>-11.862686</td>\n",
       "      <td>-5.589584</td>\n",
       "      <td>-0.765930</td>\n",
       "    </tr>\n",
       "    <tr>\n",
       "      <th>4</th>\n",
       "      <td>107.65</td>\n",
       "      <td>-7.20</td>\n",
       "      <td>2.338333</td>\n",
       "      <td>-0.610870</td>\n",
       "      <td>4.048416</td>\n",
       "      <td>4.659286</td>\n",
       "      <td>-5.873489</td>\n",
       "      <td>-12.221466</td>\n",
       "      <td>-3.846298</td>\n",
       "      <td>-14.183167</td>\n",
       "      <td>-7.562180</td>\n",
       "      <td>-2.076462</td>\n",
       "    </tr>\n",
       "    <tr>\n",
       "      <th>...</th>\n",
       "      <td>...</td>\n",
       "      <td>...</td>\n",
       "      <td>...</td>\n",
       "      <td>...</td>\n",
       "      <td>...</td>\n",
       "      <td>...</td>\n",
       "      <td>...</td>\n",
       "      <td>...</td>\n",
       "      <td>...</td>\n",
       "      <td>...</td>\n",
       "      <td>...</td>\n",
       "      <td>...</td>\n",
       "    </tr>\n",
       "    <tr>\n",
       "      <th>95</th>\n",
       "      <td>107.70</td>\n",
       "      <td>-6.75</td>\n",
       "      <td>2.015259</td>\n",
       "      <td>0.249542</td>\n",
       "      <td>4.438599</td>\n",
       "      <td>4.189056</td>\n",
       "      <td>-7.357727</td>\n",
       "      <td>-19.984711</td>\n",
       "      <td>-8.184311</td>\n",
       "      <td>-22.497360</td>\n",
       "      <td>-15.795654</td>\n",
       "      <td>-6.003922</td>\n",
       "    </tr>\n",
       "    <tr>\n",
       "      <th>96</th>\n",
       "      <td>107.75</td>\n",
       "      <td>-6.75</td>\n",
       "      <td>1.368042</td>\n",
       "      <td>-1.973755</td>\n",
       "      <td>0.244675</td>\n",
       "      <td>2.218430</td>\n",
       "      <td>-3.062897</td>\n",
       "      <td>-5.457184</td>\n",
       "      <td>-4.397842</td>\n",
       "      <td>-8.911789</td>\n",
       "      <td>-3.238754</td>\n",
       "      <td>-1.420410</td>\n",
       "    </tr>\n",
       "    <tr>\n",
       "      <th>97</th>\n",
       "      <td>107.80</td>\n",
       "      <td>-6.75</td>\n",
       "      <td>1.217133</td>\n",
       "      <td>-1.029465</td>\n",
       "      <td>0.040771</td>\n",
       "      <td>1.070236</td>\n",
       "      <td>-3.531082</td>\n",
       "      <td>-5.350510</td>\n",
       "      <td>-1.918152</td>\n",
       "      <td>-7.611221</td>\n",
       "      <td>-4.280273</td>\n",
       "      <td>-0.816849</td>\n",
       "    </tr>\n",
       "    <tr>\n",
       "      <th>98</th>\n",
       "      <td>107.85</td>\n",
       "      <td>-6.75</td>\n",
       "      <td>1.562134</td>\n",
       "      <td>-0.637665</td>\n",
       "      <td>1.364761</td>\n",
       "      <td>2.002426</td>\n",
       "      <td>-7.353867</td>\n",
       "      <td>-7.523636</td>\n",
       "      <td>0.780792</td>\n",
       "      <td>-10.611984</td>\n",
       "      <td>-5.521210</td>\n",
       "      <td>-1.035812</td>\n",
       "    </tr>\n",
       "    <tr>\n",
       "      <th>99</th>\n",
       "      <td>107.90</td>\n",
       "      <td>-6.75</td>\n",
       "      <td>1.579681</td>\n",
       "      <td>-0.857300</td>\n",
       "      <td>1.656403</td>\n",
       "      <td>2.513702</td>\n",
       "      <td>-9.161865</td>\n",
       "      <td>-11.286636</td>\n",
       "      <td>0.670029</td>\n",
       "      <td>-15.284515</td>\n",
       "      <td>-8.772934</td>\n",
       "      <td>-2.827393</td>\n",
       "    </tr>\n",
       "  </tbody>\n",
       "</table>\n",
       "<p>100 rows × 12 columns</p>\n",
       "</div>"
      ],
      "text/plain": [
       "       lon   lat  10.4-11.2  8.6-10.4  8.6-12.4  10.4-12.4   6.2-6.9  \\\n",
       "0   107.45 -7.20   0.929596 -1.500000 -0.153778   1.346222 -1.457260   \n",
       "1   107.50 -7.20   2.096924 -1.053574  1.479980   2.533554 -0.961578   \n",
       "2   107.55 -7.20   1.564148 -1.410751  0.859756   2.270508 -3.840759   \n",
       "3   107.60 -7.20   1.789368 -0.469772  3.162201   3.631973 -7.028564   \n",
       "4   107.65 -7.20   2.338333 -0.610870  4.048416   4.659286 -5.873489   \n",
       "..     ...   ...        ...       ...       ...        ...       ...   \n",
       "95  107.70 -6.75   2.015259  0.249542  4.438599   4.189056 -7.357727   \n",
       "96  107.75 -6.75   1.368042 -1.973755  0.244675   2.218430 -3.062897   \n",
       "97  107.80 -6.75   1.217133 -1.029465  0.040771   1.070236 -3.531082   \n",
       "98  107.85 -6.75   1.562134 -0.637665  1.364761   2.002426 -7.353867   \n",
       "99  107.90 -6.75   1.579681 -0.857300  1.656403   2.513702 -9.161865   \n",
       "\n",
       "     7.3-10.4    7.3-9.6    6.2-9.6   7.3-12.4  7.3-13.3  \n",
       "0   -3.009903 -10.130066 -12.196426  -1.663681 -0.952057  \n",
       "1   -1.911011 -10.064651 -12.303391   0.622543  1.307343  \n",
       "2   -4.602432  -0.360962  -5.760422  -2.331924  0.025208  \n",
       "3   -9.221558   0.266220 -11.862686  -5.589584 -0.765930  \n",
       "4  -12.221466  -3.846298 -14.183167  -7.562180 -2.076462  \n",
       "..        ...        ...        ...        ...       ...  \n",
       "95 -19.984711  -8.184311 -22.497360 -15.795654 -6.003922  \n",
       "96  -5.457184  -4.397842  -8.911789  -3.238754 -1.420410  \n",
       "97  -5.350510  -1.918152  -7.611221  -4.280273 -0.816849  \n",
       "98  -7.523636   0.780792 -10.611984  -5.521210 -1.035812  \n",
       "99 -11.286636   0.670029 -15.284515  -8.772934 -2.827393  \n",
       "\n",
       "[100 rows x 12 columns]"
      ]
     },
     "execution_count": 138,
     "metadata": {},
     "output_type": "execute_result"
    }
   ],
   "source": [
    "dat"
   ]
  },
  {
   "cell_type": "code",
   "execution_count": 139,
   "metadata": {},
   "outputs": [],
   "source": [
    "dat1 = dat.iloc[:,2:].copy()"
   ]
  },
  {
   "cell_type": "markdown",
   "metadata": {},
   "source": [
    "# Implementasi Model"
   ]
  },
  {
   "cell_type": "code",
   "execution_count": 140,
   "metadata": {},
   "outputs": [],
   "source": [
    "#predict_rainarea\n",
    "r_area = model_rainarea.predict(dat1)"
   ]
  },
  {
   "cell_type": "code",
   "execution_count": 141,
   "metadata": {},
   "outputs": [],
   "source": [
    "clen = len(r_area)\n",
    "flag2 = np.array(list(range(clen)))\n",
    "cnum = flag2[r_area ==0]\n",
    "rnum = flag2[r_area ==1]"
   ]
  },
  {
   "cell_type": "code",
   "execution_count": 142,
   "metadata": {},
   "outputs": [],
   "source": [
    "rain = dat1.iloc[rnum,:]"
   ]
  },
  {
   "cell_type": "code",
   "execution_count": 143,
   "metadata": {},
   "outputs": [],
   "source": [
    "### To predict rain type ###\n",
    "r_type = model_Type.predict(rain)"
   ]
  },
  {
   "cell_type": "code",
   "execution_count": 144,
   "metadata": {},
   "outputs": [],
   "source": [
    "# r_type[r_type>=1.8]"
   ]
  },
  {
   "cell_type": "code",
   "execution_count": 145,
   "metadata": {},
   "outputs": [],
   "source": [
    "rlen = len(r_type)\n",
    "flag3 = np.array(list(range(rlen)))\n",
    "snum = flag3[r_type ==0]\n",
    "hnum = flag3[r_type ==1]"
   ]
  },
  {
   "cell_type": "code",
   "execution_count": 146,
   "metadata": {},
   "outputs": [],
   "source": [
    "w_rain= rain.iloc[snum,:]\n",
    "s_rain= rain.iloc[hnum,:]"
   ]
  },
  {
   "cell_type": "code",
   "execution_count": 147,
   "metadata": {},
   "outputs": [],
   "source": [
    "### To predict weak rain rate ###\n",
    "weak_rain = model_Rw.predict(w_rain)"
   ]
  },
  {
   "cell_type": "code",
   "execution_count": 148,
   "metadata": {},
   "outputs": [],
   "source": [
    "##to predict strong rain###\n",
    "strong_rain = model_Rs.predict(s_rain)"
   ]
  },
  {
   "cell_type": "code",
   "execution_count": 149,
   "metadata": {},
   "outputs": [],
   "source": [
    "flag3[snum]= weak_rain\n",
    "flag3[hnum]= strong_rain"
   ]
  },
  {
   "cell_type": "code",
   "execution_count": 150,
   "metadata": {},
   "outputs": [],
   "source": [
    "flag2[cnum] = 0.0\n",
    "flag2[rnum] = flag3"
   ]
  },
  {
   "cell_type": "code",
   "execution_count": 151,
   "metadata": {},
   "outputs": [
    {
     "data": {
      "text/plain": [
       "array([ 5,  7,  7,  0,  0,  6,  4, 12,  0,  0,  0,  0,  3,  5,  0,  0,  0,\n",
       "        6,  8, 13,  0,  0,  0,  0,  0,  0,  0,  0,  0, 17,  0,  0,  4,  9,\n",
       "        0,  0,  0, 15,  0,  8,  0,  0,  0,  5,  0,  0,  0,  0,  0,  0,  0,\n",
       "        0,  0,  0,  0,  0,  0,  0,  0,  0,  0,  0,  0,  0,  0,  0,  0,  0,\n",
       "        0,  0,  0,  0,  0,  0,  0,  0,  0,  0,  0,  0,  4,  0,  0,  0,  0,\n",
       "        0,  9,  0,  0, 12,  0, 11,  0,  4,  0,  0,  7,  7,  0,  4])"
      ]
     },
     "execution_count": 151,
     "metadata": {},
     "output_type": "execute_result"
    }
   ],
   "source": [
    "flag2"
   ]
  },
  {
   "cell_type": "code",
   "execution_count": 152,
   "metadata": {},
   "outputs": [],
   "source": [
    "hujan = flag2.copy()"
   ]
  },
  {
   "cell_type": "code",
   "execution_count": 153,
   "metadata": {},
   "outputs": [
    {
     "data": {
      "text/plain": [
       "((10,), (10,))"
      ]
     },
     "execution_count": 153,
     "metadata": {},
     "output_type": "execute_result"
    }
   ],
   "source": [
    "zH['lat'].shape, zH['lon'].shape"
   ]
  },
  {
   "cell_type": "code",
   "execution_count": 154,
   "metadata": {},
   "outputs": [],
   "source": [
    "hujan1 = hujan.reshape(10,10) \n",
    "lat = zH['lat'].copy()\n",
    "lon = zH['lon'].copy()"
   ]
  },
  {
   "cell_type": "markdown",
   "metadata": {},
   "source": [
    "# Make_nc_file for the result rainfall by the model calculation"
   ]
  },
  {
   "cell_type": "code",
   "execution_count": 155,
   "metadata": {},
   "outputs": [
    {
     "data": {
      "text/plain": [
       "(array([-7.2 , -7.15, -7.1 , -7.05, -7.  , -6.95, -6.9 , -6.85, -6.8 ,\n",
       "        -6.75]),\n",
       " array([107.45, 107.5 , 107.55, 107.6 , 107.65, 107.7 , 107.75, 107.8 ,\n",
       "        107.85, 107.9 ]))"
      ]
     },
     "execution_count": 155,
     "metadata": {},
     "output_type": "execute_result"
    }
   ],
   "source": [
    "zH['lat'], zH['lon']"
   ]
  },
  {
   "cell_type": "code",
   "execution_count": 157,
   "metadata": {},
   "outputs": [],
   "source": [
    "hujan1 = hujan.reshape(10,10) \n",
    "lat = zH['lat'].copy()\n",
    "lon = zH['lon'].copy()"
   ]
  },
  {
   "cell_type": "code",
   "execution_count": 158,
   "metadata": {},
   "outputs": [],
   "source": [
    "# #open model\n",
    "# %run -i '/home/ajiwiranto/Documents/kodingan/TA/df_hmwr-gpm/random_forest/python/implementation/buat_nc.py'"
   ]
  },
  {
   "cell_type": "code",
   "execution_count": 159,
   "metadata": {},
   "outputs": [],
   "source": [
    "import netCDF4 as nc4\n",
    "\n",
    "f = nc4.Dataset('bismillah3_2003270900_notune.nc','w', format='NETCDF4') #'w' stands for write"
   ]
  },
  {
   "cell_type": "code",
   "execution_count": 160,
   "metadata": {},
   "outputs": [],
   "source": [
    "# #open model\n",
    "# %run -i '/home/ajiwiranto/Documents/kodingan/TA/df_hmwr-gpm/random_forest/python/implementation/fix_script/make_nc.py'"
   ]
  },
  {
   "cell_type": "code",
   "execution_count": 161,
   "metadata": {},
   "outputs": [],
   "source": [
    "# rain_model = f.createGroup'Hujan_model'"
   ]
  },
  {
   "cell_type": "code",
   "execution_count": 162,
   "metadata": {},
   "outputs": [
    {
     "data": {
      "text/plain": [
       "<class 'netCDF4._netCDF4.Dimension'>: name = 'lon', size = 10"
      ]
     },
     "execution_count": 162,
     "metadata": {},
     "output_type": "execute_result"
    }
   ],
   "source": [
    "f.createDimension('lat', len(lat))\n",
    "f.createDimension('lon', len(lon))\n",
    "#rain_model.createDimension('time', None)"
   ]
  },
  {
   "cell_type": "code",
   "execution_count": 163,
   "metadata": {},
   "outputs": [],
   "source": [
    "latitude = f.createVariable('Latitude', 'f4', 'lat')\n",
    "longitude = f.createVariable('Longitude', 'f4', 'lon')\n",
    "  \n",
    "#levels = tempgrp.createVariable('Levels', 'i4', 'z')\n",
    "hujan = f.createVariable('hujan', 'f4', ('lat', 'lon'))\n",
    "#time = rain_model.createVariable('Time', 'i4', 'time')"
   ]
  },
  {
   "cell_type": "code",
   "execution_count": 164,
   "metadata": {},
   "outputs": [],
   "source": [
    "#masukin data\n",
    "latitude[:] = lat\n",
    "longitude[:] = lon #The \"[:]\" at the end of the variable instance is necessary\n",
    "#levels[:] = z\n",
    "hujan[:,:] = hujan1"
   ]
  },
  {
   "cell_type": "code",
   "execution_count": 165,
   "metadata": {},
   "outputs": [
    {
     "data": {
      "text/plain": [
       "(masked_array(data=[-7.2 , -7.15, -7.1 , -7.05, -7.  , -6.95, -6.9 , -6.85,\n",
       "                    -6.8 , -6.75],\n",
       "              mask=False,\n",
       "        fill_value=1e+20,\n",
       "             dtype=float32),\n",
       " masked_array(data=[107.45, 107.5 , 107.55, 107.6 , 107.65, 107.7 , 107.75,\n",
       "                    107.8 , 107.85, 107.9 ],\n",
       "              mask=False,\n",
       "        fill_value=1e+20,\n",
       "             dtype=float32),\n",
       " masked_array(\n",
       "   data=[[ 5.,  7.,  7.,  0.,  0.,  6.,  4., 12.,  0.,  0.],\n",
       "         [ 0.,  0.,  3.,  5.,  0.,  0.,  0.,  6.,  8., 13.],\n",
       "         [ 0.,  0.,  0.,  0.,  0.,  0.,  0.,  0.,  0., 17.],\n",
       "         [ 0.,  0.,  4.,  9.,  0.,  0.,  0., 15.,  0.,  8.],\n",
       "         [ 0.,  0.,  0.,  5.,  0.,  0.,  0.,  0.,  0.,  0.],\n",
       "         [ 0.,  0.,  0.,  0.,  0.,  0.,  0.,  0.,  0.,  0.],\n",
       "         [ 0.,  0.,  0.,  0.,  0.,  0.,  0.,  0.,  0.,  0.],\n",
       "         [ 0.,  0.,  0.,  0.,  0.,  0.,  0.,  0.,  0.,  0.],\n",
       "         [ 4.,  0.,  0.,  0.,  0.,  0.,  9.,  0.,  0., 12.],\n",
       "         [ 0., 11.,  0.,  4.,  0.,  0.,  7.,  7.,  0.,  4.]],\n",
       "   mask=False,\n",
       "   fill_value=1e+20,\n",
       "   dtype=float32))"
      ]
     },
     "execution_count": 165,
     "metadata": {},
     "output_type": "execute_result"
    }
   ],
   "source": [
    "f['Latitude'][:], f['Longitude'][:], f['hujan'][:]"
   ]
  },
  {
   "cell_type": "code",
   "execution_count": 166,
   "metadata": {},
   "outputs": [],
   "source": [
    "f.close()"
   ]
  },
  {
   "cell_type": "code",
   "execution_count": null,
   "metadata": {},
   "outputs": [],
   "source": []
  },
  {
   "cell_type": "code",
   "execution_count": null,
   "metadata": {},
   "outputs": [],
   "source": []
  }
 ],
 "metadata": {
  "kernelspec": {
   "display_name": "Python 3",
   "language": "python",
   "name": "python3"
  },
  "language_info": {
   "codemirror_mode": {
    "name": "ipython",
    "version": 3
   },
   "file_extension": ".py",
   "mimetype": "text/x-python",
   "name": "python",
   "nbconvert_exporter": "python",
   "pygments_lexer": "ipython3",
   "version": "3.8.5"
  }
 },
 "nbformat": 4,
 "nbformat_minor": 4
}
